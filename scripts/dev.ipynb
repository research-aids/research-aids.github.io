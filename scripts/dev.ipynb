{
 "cells": [
  {
   "cell_type": "markdown",
   "id": "c54c1183-529c-43bd-8ec8-a200900d47c7",
   "metadata": {},
   "source": [
    "---\n",
    "\n",
    "### for me\n",
    "\n",
    " - [YAML Cheatsheet](https://quickref.me/yaml.html)\n",
    " - [YAML Viewer](https://jsonformatter.org/yaml-viewer)\n",
    "\n",
    "# Notes\n",
    "\n",
    " - provide links and URIs wherever possible\n",
    " - _extended_ YAML with inline links in Markdown style [text](https://www.example.org)\n",
    " - \n",
    "\n",
    "# Feedback\n",
    "\n",
    " - the more you annotate _what_ the information in the guides _is_ (types, meta-info), the more information we can extract and potentially link together with the Datahub\n",
    " - try to keep structures _across_ guides of different levels _and_ pieces of information as uniform as possible\n",
    "   -> makes info _predictable_ for others and allows to link more into the Datahub\n",
    " - \n",
    "\n",
    "# Problems\n",
    "\n",
    " - which URIs?\n",
    "   -> definitely the Datahub ones _at some point_ but those aren't ready yet\n",
    "  - which thesaurus/thesauri?\n",
    "\n",
    "# Thoughts, Ideas\n",
    "\n",
    " - link directly to other search guides (across levels)\n",
    " - link directly to example objects that the current guide pertains to (is examplary of)\n",
    "   -> this serves the \"points of acces\"/\"portals\" motivation of the research guides\n",
    "\n",
    "---"
   ]
  },
  {
   "cell_type": "markdown",
   "id": "7168dc1c-e5b2-44dd-b414-c86521455594",
   "metadata": {},
   "source": [
    "# YAML to Markdown Parsing - custom-built"
   ]
  },
  {
   "cell_type": "code",
   "execution_count": 1,
   "id": "5ed800ee-ee8b-4316-832f-2ccffea6d8f7",
   "metadata": {},
   "outputs": [
    {
     "name": "stdout",
     "output_type": "stream",
     "text": [
      "../published/niveau2/Dutch/ArubaBonaireCuracao_20250619.yml 'Sources'\n",
      "../published/niveau2/Dutch/ArubaBonaireCuracao_20250619.yml 'Sources'\n",
      "../published/niveau2/Dutch/SabaStEustatiusStMaarten_202501619.yml 'Sources'\n",
      "../published/niveau2/Dutch/SabaStEustatiusStMaarten_202501619.yml 'Sources'\n",
      "../published/niveau2/English/ArubaBonaireCuracao_20250619.yml 'Sources'\n",
      "../published/niveau2/English/ArubaBonaireCuracao_20250619.yml 'Sources'\n",
      "../published/niveau2/English/SabaStEustatiusStMaarten_202501619.yml 'Sources'\n",
      "../published/niveau2/English/SabaStEustatiusStMaarten_202501619.yml 'Sources'\n"
     ]
    }
   ],
   "source": [
    "from glob import glob\n",
    "import yaml\n",
    "\n",
    "from ResearchAids import ResearchAid\n",
    "\n",
    "BASE_DIR = \"../published\"\n",
    "eng = glob(f\"{BASE_DIR}/*/English/*.yml\")\n",
    "dutch = glob(f\"{BASE_DIR}/*/Dutch/*.yml\")\n",
    "# top = glob(f\"{BASE_DIR}/TopLevel/*.yml\")\n",
    "\n",
    "yaml_files = sorted(dutch + eng)\n",
    "\n",
    "for filename in yaml_files:\n",
    "    with open(filename) as handle:\n",
    "        yml = yaml.safe_load(handle)\n",
    "        try:\n",
    "            r = ResearchAid(yml, raise_parsing_error=True)\n",
    "        except KeyError as e:\n",
    "            print(filename, e)\n",
    "            # raise\n",
    "            if \"remarks\" in str(e):\n",
    "                print(filename, e)\n",
    "                raise\n",
    "            else:\n",
    "                print(filename, e)\n",
    "        except AttributeError as e:\n",
    "            print(filename, e)\n",
    "\n"
   ]
  },
  {
   "cell_type": "code",
   "execution_count": null,
   "id": "57c3e435-f0bb-4335-a80a-579a3c6cd0a7",
   "metadata": {},
   "outputs": [],
   "source": [
    "from ResearchAids import *\n",
    "\n",
    "\n",
    "Level2.parse_relevant_data(\"hello\")"
   ]
  },
  {
   "cell_type": "code",
   "execution_count": null,
   "id": "5b91eb07-4321-43f2-8400-81c2f2e01aa4",
   "metadata": {
    "scrolled": true
   },
   "outputs": [],
   "source": [
    "for y in yamls:\n",
    "    print(y.keys())"
   ]
  },
  {
   "cell_type": "code",
   "execution_count": null,
   "id": "669398ee-5377-4786-819a-547a96111c01",
   "metadata": {},
   "outputs": [],
   "source": [
    "# print(YAML2MD(yamls[1])())\n",
    "# yamls[3][\"Relevant data\"]#[\"Tags\"]\n",
    "print([s.keys() for s in yamls[2][\"Sources\"]['Secondary sources']][0], \"\\n---\")\n",
    "print([s.keys() for s in yamls[3][\"Sources\"]['Secondary sources']][0])\n",
    "\n"
   ]
  },
  {
   "cell_type": "code",
   "execution_count": null,
   "id": "501ead81-9f70-4806-adff-9a1aabe975a4",
   "metadata": {
    "scrolled": true
   },
   "outputs": [],
   "source": [
    "# print(Level2(yamls[2])())\n",
    "\n",
    "print(ResearchAid(yamls[0], raise_parsing_error=True)())"
   ]
  },
  {
   "cell_type": "code",
   "execution_count": null,
   "id": "3ad23abe-4dde-4d23-a0e2-c77ed8a6be2a",
   "metadata": {},
   "outputs": [],
   "source": [
    "with open(\"../published/niveau3/English/NZG_20240508.yml\") as handle:\n",
    "    yml = yaml.safe_load(handle)\n",
    "\n",
    "[d.keys() for d in yml[\"Sources\"]['Secondary sources']]\n",
    "yml[\"Sources\"]['Secondary sources']"
   ]
  },
  {
   "cell_type": "markdown",
   "id": "c6ab3697-b138-4dda-af74-df8f3ed1fc6d",
   "metadata": {},
   "source": [
    "---"
   ]
  },
  {
   "cell_type": "code",
   "execution_count": null,
   "id": "3804eee3-0689-4585-959f-df046c519eee",
   "metadata": {},
   "outputs": [],
   "source": [
    "import re\n",
    "from glob import glob\n",
    "import yaml\n",
    "\n",
    "\n",
    "def correct_IRI(url):\n",
    "    # correct IRIs:\n",
    "    #  - https://sws.geonames.org/6255149/\n",
    "    #  - http://vocab.getty.edu/aat/300266789\n",
    "    # -- http://www.wikidata.org/entity/Q219477\n",
    "    md_link_re = re.compile(r\"\\[(.*)\\]\\(https?:\\/\\/(?:sws|www).geonames.org\\/([0-9]+)\\/?.*\\)\")\n",
    "    # uri_re = re.compile(r\"^https?:\\/\\/(?:sws|www).geonames.org\\/([0-9]+)\\/?.*\")\n",
    "\n",
    "    if md_link_re.match(url):\n",
    "        link_text, geonames_id = md_link_re.match(url).group(1), md_link_re.match(url).group(2)\n",
    "        print(f\"parsed {url}\")\n",
    "        return f\"[{link_text}](https://sws.geonames.org/{geonames_id}/)\"\n",
    "    elif (\"http\" in url[:20]) or (\"www\" in url[:20]):\n",
    "        print(f\" {url}  didn't parse! is it correct?\")\n",
    "    else:\n",
    "        pass\n",
    "    \n",
    "    return url\n",
    "\n",
    "\n",
    "\n",
    "complex_types = (list, dict)\n",
    "def iter_urls(yml):\n",
    "    if isinstance(yml, str):\n",
    "        return correct_IRI(yml)\n",
    "    if isinstance(yml, list):\n",
    "        return list(map(iter_urls, yml))\n",
    "    if isinstance(yml, dict):\n",
    "        return {iter_urls(k): iter_urls(v) for k, v in yml.items()}\n",
    "    return yml"
   ]
  },
  {
   "cell_type": "code",
   "execution_count": null,
   "id": "b6f1e384-49fb-488a-a807-6808a2dfe2bc",
   "metadata": {
    "scrolled": true
   },
   "outputs": [],
   "source": [
    "BASE_DIR = \"../published\"\n",
    "eng = glob(f\"{BASE_DIR}/*/English/*.yml\")\n",
    "dutch = glob(f\"{BASE_DIR}/*/Dutch/*.yml\")\n",
    "# top = glob(f\"{BASE_DIR}/TopLevel/*.yml\")\n",
    "\n",
    "yaml_files = sorted(dutch + eng)\n",
    "\n",
    "for filename in yaml_files:\n",
    "    print(filename)\n",
    "    with open(filename) as handle:\n",
    "        yml = yaml.safe_load(handle)\n",
    "        iter_urls(yml)\n",
    "    print(\"\\n-------------------\\n\")"
   ]
  },
  {
   "cell_type": "code",
   "execution_count": null,
   "id": "e9301d63-31d1-4335-90e2-d48d634a843e",
   "metadata": {},
   "outputs": [],
   "source": [
    "with open(\"../published/niveau0/Dutch/TopLevel_20240606.yml\") as handle:\n",
    "    yml = yaml.safe_load(handle)\n",
    "    print(yml == iter_urls(yml))\n"
   ]
  },
  {
   "cell_type": "markdown",
   "id": "a7e71a9a-946b-4e28-a9e6-cfd3fba9b314",
   "metadata": {},
   "source": [
    "---\n",
    "\n",
    "# parsing MD to DOCX"
   ]
  },
  {
   "cell_type": "code",
   "execution_count": null,
   "id": "082bbfdf-bd9d-4905-bba8-2f0031492161",
   "metadata": {},
   "outputs": [],
   "source": [
    "import yaml\n",
    "from ResearchAids import ResearchAid"
   ]
  },
  {
   "cell_type": "code",
   "execution_count": null,
   "id": "4d8ee0fc-b1c5-42c5-8ee4-a3e074e27185",
   "metadata": {},
   "outputs": [],
   "source": [
    "aid = \"../published/niveau3/English/WMLeiden_20240508.yml\"\n",
    "md_file = \"../EXPORTS/MD/niveau3/English/WMLeiden.md\"\n",
    "\n",
    "with open(md_file) as handle:\n",
    "    md = handle.read()\n",
    "\n",
    "with open(aid) as handle:\n",
    "    yml = yaml.safe_load(handle)\n",
    "\n",
    "\n",
    "# print(md)"
   ]
  },
  {
   "cell_type": "code",
   "execution_count": null,
   "id": "29365a00-333f-40a3-a8f9-105d878715b2",
   "metadata": {},
   "outputs": [],
   "source": [
    "ra = ResearchAid(yml)\n",
    "if ra._parsed:\n",
    "    md_content = ra()\n",
    "    \n",
    "    with open(\"test.md\", \"w\") as handle:\n",
    "        handle.write(md_content)"
   ]
  },
  {
   "cell_type": "code",
   "execution_count": null,
   "id": "2c447c0b-81a3-415b-b6e0-19ebc69e3cb8",
   "metadata": {},
   "outputs": [],
   "source": [
    "import re\n",
    "\n",
    "img_regex = re.compile(r\"!\\[.+\\]\\(.+\\)\")\n",
    "\n",
    "md2 = md_content[:]\n",
    "for instance in img_regex.findall(md2):\n",
    "    md2 = md2.replace(instance, instance[1:])\n"
   ]
  },
  {
   "cell_type": "code",
   "execution_count": null,
   "id": "bd5bbebd-d2e7-4ed9-8990-90152d55d8fc",
   "metadata": {
    "scrolled": true
   },
   "outputs": [],
   "source": [
    "print(md2)"
   ]
  },
  {
   "cell_type": "code",
   "execution_count": null,
   "id": "bde640b8-b0a1-40ec-9113-bdcf3168c88c",
   "metadata": {},
   "outputs": [],
   "source": [
    "from datetime import datetime\n",
    "\n"
   ]
  }
 ],
 "metadata": {
  "kernelspec": {
   "display_name": "Python 3 (ipykernel)",
   "language": "python",
   "name": "python3"
  },
  "language_info": {
   "codemirror_mode": {
    "name": "ipython",
    "version": 3
   },
   "file_extension": ".py",
   "mimetype": "text/x-python",
   "name": "python",
   "nbconvert_exporter": "python",
   "pygments_lexer": "ipython3",
   "version": "3.12.7"
  }
 },
 "nbformat": 4,
 "nbformat_minor": 5
}
