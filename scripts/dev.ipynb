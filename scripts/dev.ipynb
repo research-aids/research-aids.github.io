{
 "cells": [
  {
   "cell_type": "markdown",
   "id": "c54c1183-529c-43bd-8ec8-a200900d47c7",
   "metadata": {},
   "source": [
    "---\n",
    "\n",
    "### for me\n",
    "\n",
    " - [YAML Cheatsheet](https://quickref.me/yaml.html)\n",
    " - [YAML Viewer](https://jsonformatter.org/yaml-viewer)\n",
    "\n",
    "# Notes\n",
    "\n",
    " - provide links and URIs wherever possible\n",
    " - _extended_ YAML with inline links in Markdown style [text](https://www.example.org)\n",
    " - \n",
    "\n",
    "# Feedback\n",
    "\n",
    " - the more you annotate _what_ the information in the guides _is_ (types, meta-info), the more information we can extract and potentially link together with the Datahub\n",
    " - try to keep structures _across_ guides of different levels _and_ pieces of information as uniform as possible\n",
    "   -> makes info _predictable_ for others and allows to link more into the Datahub\n",
    " - \n",
    "\n",
    "# Problems\n",
    "\n",
    " - which URIs?\n",
    "   -> definitely the Datahub ones _at some point_ but those aren't ready yet\n",
    "  - which thesaurus/thesauri?\n",
    "\n",
    "# Thoughts, Ideas\n",
    "\n",
    " - link directly to other search guides (across levels)\n",
    " - link directly to example objects that the current guide pertains to (is examplary of)\n",
    "   -> this serves the \"points of acces\"/\"portals\" motivation of the research guides\n",
    "\n",
    "---"
   ]
  },
  {
   "cell_type": "markdown",
   "id": "7168dc1c-e5b2-44dd-b414-c86521455594",
   "metadata": {},
   "source": [
    "# YAML to Markdown Parsing - custom-built"
   ]
  },
  {
   "cell_type": "code",
   "execution_count": null,
   "id": "5ed800ee-ee8b-4316-832f-2ccffea6d8f7",
   "metadata": {},
   "outputs": [],
   "source": [
    "from glob import glob\n",
    "import yaml\n",
    "\n",
    "from ResearchAids import ResearchAid\n",
    "\n",
    "BASE_DIR = \"../published\"\n",
    "eng = glob(f\"{BASE_DIR}/*/English/*.yml\")\n",
    "dutch = glob(f\"{BASE_DIR}/*/Dutch/*.yml\")\n",
    "# top = glob(f\"{BASE_DIR}/TopLevel/*.yml\")\n",
    "\n",
    "yaml_files = sorted(dutch + eng)\n",
    "\n",
    "for filename in yaml_files:\n",
    "    with open(filename) as handle:\n",
    "        yml = yaml.safe_load(handle)\n",
    "        try:\n",
    "            r = ResearchAid(yml, raise_parsing_error=True)\n",
    "        except KeyError as e:\n",
    "            print(filename, e)\n",
    "            # raise\n",
    "            if \"remarks\" in str(e):\n",
    "                print(filename, e)\n",
    "                raise\n",
    "            else:\n",
    "                print(filename, e)\n",
    "        except AttributeError as e:\n",
    "            print(filename, e)\n",
    "\n"
   ]
  },
  {
   "cell_type": "code",
   "execution_count": null,
   "id": "5b91eb07-4321-43f2-8400-81c2f2e01aa4",
   "metadata": {
    "scrolled": true
   },
   "outputs": [],
   "source": [
    "for y in yamls:\n",
    "    print(y.keys())"
   ]
  },
  {
   "cell_type": "code",
   "execution_count": null,
   "id": "669398ee-5377-4786-819a-547a96111c01",
   "metadata": {},
   "outputs": [],
   "source": [
    "# print(YAML2MD(yamls[1])())\n",
    "# yamls[3][\"Relevant data\"]#[\"Tags\"]\n",
    "print([s.keys() for s in yamls[2][\"Sources\"]['Secondary sources']][0], \"\\n---\")\n",
    "print([s.keys() for s in yamls[3][\"Sources\"]['Secondary sources']][0])\n",
    "\n"
   ]
  },
  {
   "cell_type": "code",
   "execution_count": null,
   "id": "501ead81-9f70-4806-adff-9a1aabe975a4",
   "metadata": {
    "scrolled": true
   },
   "outputs": [],
   "source": [
    "# print(Level2(yamls[2])())\n",
    "\n",
    "print(ResearchAid(yamls[0], raise_parsing_error=True)())"
   ]
  },
  {
   "cell_type": "code",
   "execution_count": null,
   "id": "3ad23abe-4dde-4d23-a0e2-c77ed8a6be2a",
   "metadata": {},
   "outputs": [],
   "source": [
    "with open(\"../published/niveau3/English/NZG_20240508.yml\") as handle:\n",
    "    yml = yaml.safe_load(handle)\n",
    "\n",
    "[d.keys() for d in yml[\"Sources\"]['Secondary sources']]\n",
    "yml[\"Sources\"]['Secondary sources']"
   ]
  },
  {
   "cell_type": "markdown",
   "id": "c6ab3697-b138-4dda-af74-df8f3ed1fc6d",
   "metadata": {},
   "source": [
    "---"
   ]
  },
  {
   "cell_type": "code",
   "execution_count": null,
   "id": "3804eee3-0689-4585-959f-df046c519eee",
   "metadata": {},
   "outputs": [],
   "source": [
    "import re\n",
    "from glob import glob\n",
    "import yaml\n",
    "\n",
    "\n",
    "def correct_IRI(url):\n",
    "    # correct IRIs:\n",
    "    #  - https://sws.geonames.org/6255149/\n",
    "    #  - http://vocab.getty.edu/aat/300266789\n",
    "    # -- http://www.wikidata.org/entity/Q219477\n",
    "    md_link_re = re.compile(r\"\\[(.*)\\]\\(https?:\\/\\/(?:sws|www).geonames.org\\/([0-9]+)\\/?.*\\)\")\n",
    "    # uri_re = re.compile(r\"^https?:\\/\\/(?:sws|www).geonames.org\\/([0-9]+)\\/?.*\")\n",
    "\n",
    "    if md_link_re.match(url):\n",
    "        link_text, geonames_id = md_link_re.match(url).group(1), md_link_re.match(url).group(2)\n",
    "        print(f\"parsed {url}\")\n",
    "        return f\"[{link_text}](https://sws.geonames.org/{geonames_id}/)\"\n",
    "    elif (\"http\" in url[:20]) or (\"www\" in url[:20]):\n",
    "        print(f\" {url}  didn't parse! is it correct?\")\n",
    "    else:\n",
    "        pass\n",
    "    \n",
    "    return url\n",
    "\n",
    "\n",
    "\n",
    "complex_types = (list, dict)\n",
    "def iter_urls(yml):\n",
    "    if isinstance(yml, str):\n",
    "        return correct_IRI(yml)\n",
    "    if isinstance(yml, list):\n",
    "        return list(map(iter_urls, yml))\n",
    "    if isinstance(yml, dict):\n",
    "        return {iter_urls(k): iter_urls(v) for k, v in yml.items()}\n",
    "    return yml"
   ]
  },
  {
   "cell_type": "code",
   "execution_count": null,
   "id": "b6f1e384-49fb-488a-a807-6808a2dfe2bc",
   "metadata": {
    "scrolled": true
   },
   "outputs": [],
   "source": [
    "BASE_DIR = \"../published\"\n",
    "eng = glob(f\"{BASE_DIR}/*/English/*.yml\")\n",
    "dutch = glob(f\"{BASE_DIR}/*/Dutch/*.yml\")\n",
    "# top = glob(f\"{BASE_DIR}/TopLevel/*.yml\")\n",
    "\n",
    "yaml_files = sorted(dutch + eng)\n",
    "\n",
    "for filename in yaml_files:\n",
    "    print(filename)\n",
    "    with open(filename) as handle:\n",
    "        yml = yaml.safe_load(handle)\n",
    "        iter_urls(yml)\n",
    "    print(\"\\n-------------------\\n\")"
   ]
  },
  {
   "cell_type": "code",
   "execution_count": null,
   "id": "e9301d63-31d1-4335-90e2-d48d634a843e",
   "metadata": {},
   "outputs": [],
   "source": [
    "with open(\"../published/niveau0/Dutch/TopLevel_20240606.yml\") as handle:\n",
    "    yml = yaml.safe_load(handle)\n",
    "    print(yml == iter_urls(yml))\n"
   ]
  },
  {
   "cell_type": "markdown",
   "id": "a7e71a9a-946b-4e28-a9e6-cfd3fba9b314",
   "metadata": {},
   "source": [
    "---\n",
    "\n",
    "# parsing MD to DOCX"
   ]
  },
  {
   "cell_type": "code",
   "execution_count": 1,
   "id": "082bbfdf-bd9d-4905-bba8-2f0031492161",
   "metadata": {},
   "outputs": [],
   "source": [
    "import yaml\n",
    "from ResearchAids import ResearchAid"
   ]
  },
  {
   "cell_type": "code",
   "execution_count": 3,
   "id": "4d8ee0fc-b1c5-42c5-8ee4-a3e074e27185",
   "metadata": {},
   "outputs": [],
   "source": [
    "aid = \"../published/niveau3/English/WMLeiden_20240508.yml\"\n",
    "md_file = \"../EXPORTS/MD/niveau3/English/WMLeiden.md\"\n",
    "\n",
    "with open(md_file) as handle:\n",
    "    md = handle.read()\n",
    "\n",
    "with open(aid) as handle:\n",
    "    yml = yaml.safe_load(handle)\n",
    "\n",
    "\n",
    "# print(md)"
   ]
  },
  {
   "cell_type": "code",
   "execution_count": 4,
   "id": "29365a00-333f-40a3-a8f9-105d878715b2",
   "metadata": {},
   "outputs": [],
   "source": [
    "ra = ResearchAid(yml)\n",
    "if ra._parsed:\n",
    "    md_content = ra()\n",
    "    \n",
    "    with open(\"test.md\", \"w\") as handle:\n",
    "        handle.write(md_content)"
   ]
  },
  {
   "cell_type": "code",
   "execution_count": 16,
   "id": "2c447c0b-81a3-415b-b6e0-19ebc69e3cb8",
   "metadata": {},
   "outputs": [],
   "source": [
    "import re\n",
    "\n",
    "img_regex = re.compile(r\"!\\[.+\\]\\(.+\\)\")\n",
    "\n",
    "md2 = md_content[:]\n",
    "for instance in img_regex.findall(md2):\n",
    "    md2 = md2.replace(instance, instance[1:])\n"
   ]
  },
  {
   "cell_type": "code",
   "execution_count": 18,
   "id": "bd5bbebd-d2e7-4ed9-8990-90152d55d8fc",
   "metadata": {
    "scrolled": true
   },
   "outputs": [
    {
     "name": "stdout",
     "output_type": "stream",
     "text": [
      "_This is a level 3 Research Aid_  \n",
      "_first edited by Wiebe Reints as original_author on 2024-05-08_  \n",
      "_last edited by Abacus as translator on 2025-04-24\n",
      "        (applies to section: Main-text; Sources)_\n",
      "\n",
      "\n",
      "# Wereldmuseum Leiden\n",
      "\n",
      "\n",
      "## Abstract\n",
      "\n",
      "Today's Wereldmuseum Leiden, which was previously known as Museum Volkenkunde and before that as the 's Rijks Etnografisch Museum (State Ethnographic Museum), was founded in 1837 from the amalgamation of several collections of objects that were acquired in regions that were under Dutch colonial rule.\n",
      "\n",
      "[Wereldmuseum Leiden (November 2024)](https://upload.wikimedia.org/wikipedia/commons/5/51/Wereldmuseum_Leiden_%28nov_2024%29.jpg \"The Wereldmuseum Leiden in November 2024.\")\n",
      "\n",
      "### History of the collection\n",
      "\n",
      "The history of today’s Wereldmuseum Leiden goes back to 1837. Its first hundred years were characterised by financial difficulties, the accumulation of large quantities of objects and many changes of location. In 1937 the museum finally found a permanent home in the former University Hospital where it could display its entire collection. The museum is still located in this building. \n",
      "\n",
      "The collection of the Wereldmuseum Leiden originated from the private collection of [Philipp Franz von Siebold](http://www.wikidata.org/entity/Q77140), who was also the museum's first director. His collection, which originally consisted mainly of Japanese objects, was expanded during the 19th century to include several private collections and, in 1883, a significant collection of ethnographic objects from the collection of the [Royal Cabinet of Curiosities](https://app.colonialcollections.nl/en/research-aids/https%3A%2F%2Fn2t%252Enet%2Fark%3A%2F27023%2Fcc7609accb9857dc8ca777ff1d6d4af1). At the start of the twentieth century, part of the collection of the [Museum of Antiquities](https://app.colonialcollections.nl/en/research-aids/https%3A%2F%2Fn2t%252Enet%2Fark%3A%2F27023%2F732277d365ab6fbcc351da7bc2b900b3) in Leiden was also transferred to what was then the Rijks Ethnographisch Museum (National Museum of Ethnology). The latter group of objects included the various Singhasari statues, some of which were returned to Indonesia in 1978 and others in 2023. Objects were also transferred from the National Museum of Ethnology to other museums, such as the Anatomical Museum in Leiden in 1935. \n",
      "\n",
      "Objects were acquired in various ways. First, as described above, through exchange with other museums. In addition, the National Museum of Ethnology itself was an active buyer of ethnographic objects from dealers and auctions, with for example part of the museum's collection of Benin Bronzes having been obtained in this way. Many objects were also received as donations, often from [colonial civil servants](https://app.colonialcollections.nl/en/research-aids/https%3A%2F%2Fn2t%252Enet%2Fark%3A%2F27023%2F4f29663e147ee9c1ee7a9eb3019fca18) or [military personnel](https://app.colonialcollections.nl/en/research-aids/https%3A%2F%2Fn2t%252Enet%2Fark%3A%2F27023%2F0ceff3da7d6bba371bb16767a65b619e) who served for example with the Royal Dutch East Indies Army (KNIL). The vast majority of the collection of the present Wereldmuseum Leiden was therefore collected during the 19th and 20th centuries.\n",
      "\n",
      "[Wereldmuseum Leiden (November 2024)](https://upload.wikimedia.org/wikipedia/commons/5/51/Wereldmuseum_Leiden_%28nov_2024%29.jpg \"The Wereldmuseum Leiden in November 2024.\")\n",
      "\n",
      "### Provenance research\n",
      "\n",
      "Objects from the Wereldmuseum Leiden can be identified within the Wereldmuseum collection by the attribute ‘RV-’. ‘RV-360’ comprises the objects that were received from the [Royal Cabinet of Curiosities](https://app.colonialcollections.nl/en/research-aids/https%3A%2F%2Fn2t%252Enet%2Fark%3A%2F27023%2Fcc7609accb9857dc8ca777ff1d6d4af1) in 1883. ‘RV-1403’ refers to a significant collection of objects that were transferred from the [Museum of Antiquities](https://app.colonialcollections.nl/en/research-aids/https%3A%2F%2Fn2t%252Enet%2Fark%3A%2F27023%2F732277d365ab6fbcc351da7bc2b900b3) in 1904. The Wereldmuseum Leiden has kept records of the collection since its foundation. However, the archive system has changed several times and different documentation is available for each object or collection series (several pieces that were registered at the same time). \n",
      "\n",
      "The archives can roughly be divided into the collection archive and the correspondence archive. The collection archive consists of object registers, inventories, series files and, for some older objects, lists of donations and exchanges. This archive can be found under NL-LdnRMV_A3. The correspondence archive contains incoming letters and telegrams, copies of outgoing letters, lists of incoming and outgoing correspondence, and so on. This archive can be found under NL-LdnRMV_A1.\n",
      "\n",
      "The archive of the Wereldmuseum Leiden is not accessible online. For more information about the collection or to view archival documents please contact [collectieinfo@wereldmuseum.nl](mailto:collectieinfo@wereldmuseum.nl). \n",
      "\n",
      "Documents related to the Wereldmuseum Leiden can also be found at the Dutch National Archives, these are mainly administrative records. The archives of museums that exchanged collections with Wereldmuseum Leiden may contain further archival material on those specific objects.\n",
      "\n",
      "\n",
      "## Related Aids\n",
      "\n",
      "_see also: [Sources](niveau1/English/Sources_20240501.yml)_  \n",
      "_see also: [The trade in objects from a colonial context](niveau2/English/Trade_20240316.yml)_  \n",
      "_see also: [Army and navy personnel in colonised territories](niveau2/English/MilitaryAndNavy_20240417.yml)_  \n",
      "_see also: [Civil servants in colonised territories](niveau2/English/CivilServants_20240316.yml)_  \n",
      "_see also: [Royal Cabinet of Curiosities](niveau3/English/KKZ_20240417.yml)_  \n",
      "_see also: [Groote Koninklijke Bazar](niveau3/English/KoninklijkeBazaar_2040503.yml)_  \n",
      "_see also: [Kunsthandel Van Lier](niveau3/English/KunsthandelVanLier_20240507.yml)_  \n",
      "_see also: [Artis Ethnographic Museum](niveau3/English/EMArtis_20240712.yml)_  \n",
      "_see also: [Koninklijk Bataviaasch Genootschap van Wetenschappen en Kunsten](niveau3/English/BGKW_20240905.yml)_  \n",
      "_see also: [Naturalis Biodiversity Center](niveau3/English/Naturalis_20270710.yml)_  \n",
      "_see also: [Wereldmuseum Amsterdam](niveau3/English/WMAmsterdam_20240809.yml)_  \n",
      "_see also: [Wereldmuseum Rotterdam](niveau3/English/WMRotterdam_2040822.yml)_  \n",
      "_see also: [Wereldmuseum Berg en Dal](niveau3/English/WMBergEnDal_20241001.yml)_  \n",
      "_see also: [Royal Netherlands Institute of Southeast Asian and Caribbean Studies](niveau3/English/KITLV_20240704.yml)_  \n",
      "_see also: [Rijksmuseum Amsterdam](niveau3/English/RijksmuseumAmsterdam_20240905.yml)_  \n",
      "_see also: [Rijksmuseum van Oudheden](niveau3/English/RMO_20241106.yml)_  \n",
      "_see also: [C.G.C. Reinwardt](niveau3/English/Reinwardt_20241217.yml)_  \n",
      "_see also: [Museum Nusantara](niveau3/English/MNusantara_20250225.yml)_  \n",
      "_see also: [Volkenkundig Museum Justinus van Nassau](niveau3/English/JustinusNassau_20250513.yml)_  \n",
      "_see also: [International Colonial and Export Exhibition 1883](niveau3/English/Wereldtentoonstelling1883_20250602.yml)_  \n",
      "_see also: [Natuurhistorisch en Volkenkundig Museum Oudenbosch](niveau3/English/MOudenbosch_20250603.yml)_  \n",
      "\n",
      "## Secondary sources\n",
      "\n",
      "Book:\n",
      "  > Effert, F.R., and Caffey, Nola. Royal Cabinets and Auxiliary Branches: Origins of the National Museum of Ethnology, 1816-1883. Leiden: Research School CNWS, 2008.  \n",
      "> [ISBN 9789057891595](https://isbnsearch.org/isbn/9789057891595), [WorldCat 244247206](https://search.worldcat.org/title/244247206)  \n",
      "> _History of the Rijks Etnografisch Museum in Leiden (now Wereldmuseum Leiden) and how it was formed from the collections of the Royal Cabinet of Curiosities._  \n",
      "\n",
      "Dissertation:\n",
      "  > Effert, Rudolf. “Volkenkundig Verzamelen: het Koninklijk Kabinet Van Zeldzaamheden en het Rijks Ethnographisch Museum 1816-1883.” Dissertatie, Universiteit Leiden, Leiden 2003.  \n",
      "> [WorldCat 317117313](https://search.worldcat.org/title/317117313)  \n",
      "> _Dissertation by Rudolf Effert, corresponds to the English version. About the history of the National Museum of Ethnology and how it was formed from the collections of the Royal Cabinet of Curiosities._  \n",
      "\n",
      "Book:\n",
      "  > Marquart, Joseph. Die Benin-Sammlung des Reichsmuseums für Völkerkunde in Leiden. Beschrieben und mit ausführlichen Prolegomena zur Geschichte der Handelswege und Völkerbewegungen in Nordafrika, Leiden: Brill, 1913.  \n",
      "> [WorldCat 562473153](https://search.worldcat.org/title/562473153)  \n",
      "> _Book by Joseph Marquart, a German historian and curator of the Rijks Ethnografisch Museum in Leiden, about the museum’s Benin collection._  \n",
      "\n",
      "Book:\n",
      "  > Rassers, Willem H. Overzicht van de geschiedenis van het Rijksmuseum voor Volkenkunde, 1837-1937. Sijthoff,1937.  \n",
      "> [https://resolver.kb.nl/resolve?urn=MMKB06:000003234:00005](https://resolver.kb.nl/resolve?urn=MMKB06:000003234:00005)  \n",
      "> _Comprehensive history of the first one hundred years of the National Museum of Ethnology. Describes how the museum originated from the Von Siebold collection and the Royal Cabinet of Curiosities, and how it was subsequently formed into an ethnographic museum. Contains information on objects acquired during the first hundred years of the museum._  \n",
      "\n",
      "Magazine:\n",
      "  > Veys, Fanny Wonu, en Nationaal Museum van Wereldculturen, red. The Benin Collections at the National Museum of World Cultures. Provenance, #2. Leiden: Nationaal Museum van Wereldculturen, 2021.  \n",
      "> [ISBN 9789088909986](https://isbnsearch.org/isbn/9789088909986), [WorldCat 1293851263](https://search.worldcat.org/title/1293851263)  \n",
      "> _Publication of the Wereldmuseum regarding its Benin collection. Provides information on the link between objects from Benin within the Wereldmuseum collection (not just in Leiden) and the looting of Benin City by British soldiers in 1897._  \n",
      "\n",
      "Book:\n",
      "  > Wengen, Ger van. Wat is er te doen in Volkenkunde?: de bewogen geschiedenis van het Rijksmuseum voor Volkenkunde in Leiden, Leiden 2002.  \n",
      "> [ISBN 9789071310812](https://isbnsearch.org/isbn/9789071310812), [WorldCat 901467113](https://search.worldcat.org/title/901467113)  \n",
      "> _Book about the history of today's Wereldmuseum Leiden._  \n",
      "\n",
      "\n",
      "\n",
      "---\n",
      "## Relevant Data \n",
      "Identifiers:\n",
      "  \n",
      "https://www.wikidata.org/entity/Q17339437\n",
      ",\n",
      "  Name variations:\n",
      "  \n",
      "Verzameling Von Siebold, Rijks Japansch Museum, Rijks Japansch Museum Von Siebold, Rijks Etnografisch Museum, Rijksmuseum voor Volkenkunde, Museum Volkenkunde, Nationaal Museum van Wereldculturen\n",
      ",\n",
      "  Tags:\n",
      "  Activity:\n",
      "  \n",
      "[Collectie](http://vocab.getty.edu/aat/300025976), [Ethnographic museum](http://vocab.getty.edu/page/aat/300451067)\n",
      ",\n",
      "  Type of objects:\n",
      "  \n",
      "[Ethnographic objects](http://vocab.getty.edu/aat/300234108)\n",
      ",\n",
      "  Geographical:\n",
      "  \n",
      "[Africa](https://sws.geonames.org/6255146/), [Asia](https://www.geonames.org/6255147/), [North America](https://www.geonames.org/6255149/), [Oceania](https://www.geonames.org/6255151/), [South America](https://www.geonames.org/6255150/)\n",
      ",\n",
      "  Period of activity:\n",
      "  Year of start:\n",
      "  1837,\n",
      "  Year of end:\n",
      "  \n",
      "\n",
      ",\n",
      "  Collections:\n",
      "  Within Data Hub:\n",
      "  \n",
      "\n",
      "\n",
      "        \n"
     ]
    }
   ],
   "source": [
    "print(md2)"
   ]
  },
  {
   "cell_type": "code",
   "execution_count": 7,
   "id": "bde640b8-b0a1-40ec-9113-bdcf3168c88c",
   "metadata": {},
   "outputs": [
    {
     "data": {
      "text/plain": [
       "'2025-07-28 12:49:04.625968'"
      ]
     },
     "execution_count": 7,
     "metadata": {},
     "output_type": "execute_result"
    }
   ],
   "source": [
    "from datetime import datetime\n",
    "\n"
   ]
  }
 ],
 "metadata": {
  "kernelspec": {
   "display_name": "Python 3 (ipykernel)",
   "language": "python",
   "name": "python3"
  },
  "language_info": {
   "codemirror_mode": {
    "name": "ipython",
    "version": 3
   },
   "file_extension": ".py",
   "mimetype": "text/x-python",
   "name": "python",
   "nbconvert_exporter": "python",
   "pygments_lexer": "ipython3",
   "version": "3.12.7"
  }
 },
 "nbformat": 4,
 "nbformat_minor": 5
}
